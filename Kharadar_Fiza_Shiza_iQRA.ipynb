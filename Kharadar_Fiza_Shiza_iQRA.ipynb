{
 "cells": [
  {
   "cell_type": "code",
   "execution_count": 1,
   "id": "d2ae9998-7a20-4028-ba3c-16cf403338b7",
   "metadata": {},
   "outputs": [
    {
     "data": {
      "text/plain": [
       "11"
      ]
     },
     "execution_count": 1,
     "metadata": {},
     "output_type": "execute_result"
    }
   ],
   "source": [
    "5+6\n",
    "\n"
   ]
  },
  {
   "cell_type": "code",
   "execution_count": 21,
   "id": "60a852e0-eab9-41f6-85aa-39229bccec03",
   "metadata": {},
   "outputs": [
    {
     "data": {
      "text/plain": [
       "5.0"
      ]
     },
     "execution_count": 21,
     "metadata": {},
     "output_type": "execute_result"
    }
   ],
   "source": [
    "25/5"
   ]
  },
  {
   "cell_type": "code",
   "execution_count": 6,
   "id": "12fa2fa7-d193-474f-af47-b5846853de12",
   "metadata": {},
   "outputs": [
    {
     "data": {
      "text/plain": [
       "75.0"
      ]
     },
     "execution_count": 6,
     "metadata": {},
     "output_type": "execute_result"
    }
   ],
   "source": [
    "0.5*150"
   ]
  },
  {
   "cell_type": "code",
   "execution_count": 22,
   "id": "597d1419-b079-4bd8-a5d6-b0b0576a5cc8",
   "metadata": {},
   "outputs": [
    {
     "ename": "NameError",
     "evalue": "name 'c' is not defined",
     "output_type": "error",
     "traceback": [
      "\u001b[1;31m---------------------------------------------------------------------------\u001b[0m",
      "\u001b[1;31mNameError\u001b[0m                                 Traceback (most recent call last)",
      "Cell \u001b[1;32mIn[22], line 1\u001b[0m\n\u001b[1;32m----> 1\u001b[0m f\u001b[38;5;241m=\u001b[39m(\u001b[38;5;241m37.0\u001b[39m\u001b[38;5;241m/\u001b[39m\u001b[38;5;241m37\u001b[39m\u001b[38;5;241m*\u001b[39m\u001b[43mc\u001b[49m)\n",
      "\u001b[1;31mNameError\u001b[0m: name 'c' is not defined"
     ]
    }
   ],
   "source": [
    "f=(37.0/37*c)"
   ]
  },
  {
   "cell_type": "code",
   "execution_count": 15,
   "id": "1373cb22-cb67-4652-9422-3d9a87dbe488",
   "metadata": {},
   "outputs": [],
   "source": [
    "abc=5"
   ]
  },
  {
   "cell_type": "code",
   "execution_count": 16,
   "id": "74da891e-a37e-4469-8c1d-c2a954453329",
   "metadata": {},
   "outputs": [],
   "source": [
    "abd=6"
   ]
  },
  {
   "cell_type": "code",
   "execution_count": 17,
   "id": "3c1ec0c3-c7b1-4a6c-b4ae-9e7e9963535a",
   "metadata": {},
   "outputs": [
    {
     "data": {
      "text/plain": [
       "11"
      ]
     },
     "execution_count": 17,
     "metadata": {},
     "output_type": "execute_result"
    }
   ],
   "source": [
    "abc+abd"
   ]
  },
  {
   "cell_type": "code",
   "execution_count": 18,
   "id": "20c1ed92-686d-4225-9c0c-7fd60532b53f",
   "metadata": {},
   "outputs": [],
   "source": [
    "abc=25"
   ]
  },
  {
   "cell_type": "code",
   "execution_count": 19,
   "id": "d928097d-a8a3-440c-bc0a-6b6e008d02da",
   "metadata": {},
   "outputs": [],
   "source": [
    "abd=5"
   ]
  },
  {
   "cell_type": "code",
   "execution_count": 20,
   "id": "b3800ecd-2a05-4946-ab4b-3b3af87bc57a",
   "metadata": {},
   "outputs": [
    {
     "data": {
      "text/plain": [
       "5.0"
      ]
     },
     "execution_count": 20,
     "metadata": {},
     "output_type": "execute_result"
    }
   ],
   "source": [
    "abc/abd"
   ]
  },
  {
   "cell_type": "code",
   "execution_count": 23,
   "id": "31601758-6c18-40dc-81dd-127d08e465cc",
   "metadata": {},
   "outputs": [
    {
     "data": {
      "text/plain": [
       "int"
      ]
     },
     "execution_count": 23,
     "metadata": {},
     "output_type": "execute_result"
    }
   ],
   "source": [
    "type(19)"
   ]
  },
  {
   "cell_type": "code",
   "execution_count": 24,
   "id": "97ae6d52-cc1b-4af7-9aa1-b80b3b2e4af7",
   "metadata": {},
   "outputs": [
    {
     "data": {
      "text/plain": [
       "float"
      ]
     },
     "execution_count": 24,
     "metadata": {},
     "output_type": "execute_result"
    }
   ],
   "source": [
    "type(16.5)"
   ]
  },
  {
   "cell_type": "code",
   "execution_count": 31,
   "id": "ae1a2639-8f9e-4f4b-984f-d83bcc61f052",
   "metadata": {},
   "outputs": [
    {
     "data": {
      "text/plain": [
       "str"
      ]
     },
     "execution_count": 31,
     "metadata": {},
     "output_type": "execute_result"
    }
   ],
   "source": [
    "type(\"fiza\")"
   ]
  },
  {
   "cell_type": "code",
   "execution_count": 29,
   "id": "090127dc-0e35-48b9-a489-e3e0d18d958d",
   "metadata": {},
   "outputs": [
    {
     "data": {
      "text/plain": [
       "bool"
      ]
     },
     "execution_count": 29,
     "metadata": {},
     "output_type": "execute_result"
    }
   ],
   "source": [
    "type(2==2)"
   ]
  },
  {
   "cell_type": "code",
   "execution_count": null,
   "id": "d4b91962-9cf4-4569-9366-8a3576217d84",
   "metadata": {},
   "outputs": [],
   "source": []
  }
 ],
 "metadata": {
  "kernelspec": {
   "display_name": "Python 3 (ipykernel)",
   "language": "python",
   "name": "python3"
  },
  "language_info": {
   "codemirror_mode": {
    "name": "ipython",
    "version": 3
   },
   "file_extension": ".py",
   "mimetype": "text/x-python",
   "name": "python",
   "nbconvert_exporter": "python",
   "pygments_lexer": "ipython3",
   "version": "3.10.10"
  }
 },
 "nbformat": 4,
 "nbformat_minor": 5
}
